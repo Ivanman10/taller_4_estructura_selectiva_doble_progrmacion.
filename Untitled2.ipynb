{
  "nbformat": 4,
  "nbformat_minor": 0,
  "metadata": {
    "colab": {
      "provenance": [],
      "authorship_tag": "ABX9TyMzTJ0T56CT7H+nsNamglb0",
      "include_colab_link": true
    },
    "kernelspec": {
      "name": "python3",
      "display_name": "Python 3"
    },
    "language_info": {
      "name": "python"
    }
  },
  "cells": [
    {
      "cell_type": "markdown",
      "metadata": {
        "id": "view-in-github",
        "colab_type": "text"
      },
      "source": [
        "<a href=\"https://colab.research.google.com/github/Ivanman10/taller_4_estructura_selectiva_doble_progrmacion./blob/main/Untitled2.ipynb\" target=\"_parent\"><img src=\"https://colab.research.google.com/assets/colab-badge.svg\" alt=\"Open In Colab\"/></a>"
      ]
    },
    {
      "cell_type": "code",
      "execution_count": null,
      "metadata": {
        "id": "XiR-Z-btgxQb"
      },
      "outputs": [],
      "source": []
    },
    {
      "cell_type": "markdown",
      "source": [
        "Taller 4 de programacion\n",
        "\n",
        "estructura selectiva doble\n",
        "\n",
        "Ivan Miranda Manjarres\n",
        "\n",
        "000405236\n",
        "\n",
        "Ejercico 1\n"
      ],
      "metadata": {
        "id": "kWVVoBp8g1kn"
      }
    },
    {
      "cell_type": "code",
      "source": [
        "#solicitar la clasificacion al usuario\n",
        "calificacion = float(input(\"ingrese la calificacion (de 0 a 5):\"))\n",
        "\n",
        "#verificar si la calificacion esta dentro del rango permitido\n",
        "if calificacion >= 0 and calificacion <=5:\n",
        " #comprobar si el estudiante aprobo (calificacion mayor o igual a 3)\n",
        " if calificacion >=3:\n",
        "   print (\"El estudiante aprobó\")\n",
        " else:\n",
        "   print(\"El estudiante reprobo\")\n"
      ],
      "metadata": {
        "colab": {
          "base_uri": "https://localhost:8080/"
        },
        "id": "4imiP0VXhIhd",
        "outputId": "3a349f3a-6ea2-4615-d66a-612fbfcb7db0"
      },
      "execution_count": 2,
      "outputs": [
        {
          "output_type": "stream",
          "name": "stdout",
          "text": [
            "ingrese la calificacion (de 0 a 5):3\n",
            "El estudiante aprobó\n"
          ]
        }
      ]
    },
    {
      "cell_type": "markdown",
      "source": [
        "Ejercicio 2"
      ],
      "metadata": {
        "id": "zJ-uxpoBiudh"
      }
    },
    {
      "cell_type": "code",
      "source": [
        "#solicitar al usuario que ingrese un numero.\n",
        "numero = float(input(\"Ingrese un numero: \"))\n",
        "\n",
        "#verificar si el numero positivo, negativo o cero\n",
        "if numero > 0:\n",
        "  print(\"el numero es positivo\")\n",
        "if numero < 0:\n",
        "  print(\"el numero es negativo\")\n",
        "if numero == 0:\n",
        " print(\"el numero es igual a cero\")"
      ],
      "metadata": {
        "colab": {
          "base_uri": "https://localhost:8080/"
        },
        "id": "ZxjY0dQpiWZW",
        "outputId": "5861aaaa-8aab-48df-a804-172504aee2fb"
      },
      "execution_count": 46,
      "outputs": [
        {
          "output_type": "stream",
          "name": "stdout",
          "text": [
            "Ingrese un numero: 5\n",
            "el numero es positivo\n"
          ]
        }
      ]
    },
    {
      "cell_type": "code",
      "source": [],
      "metadata": {
        "id": "15LcZCv7kEIM"
      },
      "execution_count": null,
      "outputs": []
    },
    {
      "cell_type": "markdown",
      "source": [
        "Ejercicio 3"
      ],
      "metadata": {
        "id": "J2T28eRXkdc9"
      }
    },
    {
      "cell_type": "code",
      "source": [
        "#solicitar al usuario que ingrese una contraseña\n",
        "contraseña = input(\"ingrese la contraseña: \")\n",
        "\n",
        "#verifica si la contraseña es valida\n",
        "if contraseña == \"python123\" :\n",
        "  print(\"contraseña valida\")\n",
        "else :\n",
        "  print(\"contraseña incorrecta\")"
      ],
      "metadata": {
        "colab": {
          "base_uri": "https://localhost:8080/"
        },
        "id": "ePpBllIXkgKn",
        "outputId": "d71c62cd-2b71-4532-8744-d4797738e95f"
      },
      "execution_count": 7,
      "outputs": [
        {
          "output_type": "stream",
          "name": "stdout",
          "text": [
            "ingrese la contraseña: python123\n",
            "contraseña valida\n"
          ]
        }
      ]
    },
    {
      "cell_type": "code",
      "source": [],
      "metadata": {
        "id": "WrZiGiwYlDiN"
      },
      "execution_count": null,
      "outputs": []
    },
    {
      "cell_type": "markdown",
      "source": [
        "ejercicio 4\n"
      ],
      "metadata": {
        "id": "paRtLbxolHEk"
      }
    },
    {
      "cell_type": "code",
      "source": [
        "#solicitar al usuario que ingrese un numero\n",
        "numero =int(input(\"ingrese un numero: \"))\n",
        "\n",
        "#verificar si el numero es par o impar\n",
        "if numero % 2 == 0:\n",
        " print(\"el numero es par\")\n",
        "else :\n",
        "  print(\"el numero es impar\")"
      ],
      "metadata": {
        "colab": {
          "base_uri": "https://localhost:8080/"
        },
        "id": "GfxxvlyKlJSu",
        "outputId": "2d9c3180-332c-4cab-f02f-abeb2e2bf073"
      },
      "execution_count": 10,
      "outputs": [
        {
          "output_type": "stream",
          "name": "stdout",
          "text": [
            "ingrese un numero: 14\n",
            "el numero es par\n"
          ]
        }
      ]
    },
    {
      "cell_type": "code",
      "source": [],
      "metadata": {
        "id": "24N0erydl4Y9"
      },
      "execution_count": null,
      "outputs": []
    },
    {
      "cell_type": "markdown",
      "source": [
        "Ejercicio 5\n"
      ],
      "metadata": {
        "id": "k8k-LSHQmtU2"
      }
    },
    {
      "cell_type": "code",
      "source": [
        "\n",
        "#solicitar al usuario que ingrese cinco números\n",
        "\n",
        "numero1 = float(input(\"Ingrese el primer número: \"))\n",
        "numero2 = float(input(\"Ingrese el segundo número: \"))\n",
        "numero3 = float(input(\"Ingrese el tercer número: \"))\n",
        "numero4 = float(input(\"Ingrese el cuarto número: \"))\n",
        "numero5 = float(input(\"Ingrese el quinto número: \"))\n",
        "\n",
        "#determinar el número mayor de cinco numeros\n",
        "if numero1 >= numero2 and numero1 >= numero3 and numero1 >= numero4 and numero1 >= numero5:\n",
        "    mayor = numero1\n",
        "if numero2 >= numero1 and numero2 >= numero3 and numero2 >= numero4 and numero2 >= numero5:\n",
        "    mayor = numero2\n",
        "if numero3 >= numero1 and numero3 >= numero2 and numero3 >= numero4 and numero3 >= numero5:\n",
        "    mayor = numero3\n",
        "if numero4 >= numero1 and numero4 >= numero2 and numero4 >= numero3 and numero4 >= numero5:\n",
        "    mayor = numero4\n",
        "else:\n",
        "    mayor = numero5\n",
        "\n",
        "#escribir el número mayor\n",
        "print(\"El número mayor es:\", mayor)\n"
      ],
      "metadata": {
        "colab": {
          "base_uri": "https://localhost:8080/"
        },
        "id": "Z5yock3YmvS4",
        "outputId": "20b283d8-8df2-4431-971a-f0f393f9ff72"
      },
      "execution_count": 56,
      "outputs": [
        {
          "output_type": "stream",
          "name": "stdout",
          "text": [
            "Ingrese el primer número: 1\n",
            "Ingrese el segundo número: 2\n",
            "Ingrese el tercer número: 2\n",
            "Ingrese el cuarto número: 5\n",
            "Ingrese el quinto número: 8\n",
            "El número mayor es: 8.0\n"
          ]
        }
      ]
    },
    {
      "cell_type": "markdown",
      "source": [
        "ejercicio 6"
      ],
      "metadata": {
        "id": "_xup8z9Jn1sl"
      }
    },
    {
      "cell_type": "code",
      "source": [
        "# Solicitar al usuario ingresar una edad\n",
        "edad = int(input(\"Ingrese una edad: \"))\n",
        "\n",
        "# Determinar la categoría en función de la edad\n",
        "if 0 <= edad <= 12:\n",
        "    categoria = \"Niño\"\n",
        "if 13 <= edad <= 19:\n",
        "    categoria = \"Adolescente\"\n",
        "if 20 <= edad <= 64:\n",
        "    categoria = \"Adulto\"\n",
        "else:\n",
        "    categoria = \"Adulto Mayor\"\n",
        "\n",
        "#escribir la categoría\n",
        "print(\"La persona está en la categoría: \", categoria)\n"
      ],
      "metadata": {
        "colab": {
          "base_uri": "https://localhost:8080/"
        },
        "id": "WQA86Tq3sCXJ",
        "outputId": "e79f68c2-3253-4c8c-c288-d4bdc1f5b3c2"
      },
      "execution_count": 50,
      "outputs": [
        {
          "output_type": "stream",
          "name": "stdout",
          "text": [
            "Ingrese una edad: 45\n",
            "La persona está en la categoría:  Adulto\n"
          ]
        }
      ]
    },
    {
      "cell_type": "code",
      "source": [],
      "metadata": {
        "id": "ebUpxvqVsVhM"
      },
      "execution_count": null,
      "outputs": []
    }
  ]
}